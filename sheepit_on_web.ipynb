{
  "cells": [
    {
      "cell_type": "code",
      "execution_count": 1,
      "metadata": {
        "cellView": "form",
        "id": "q2aL4cibbWui"
      },
      "outputs": [],
      "source": [
        "#@title Install dependencies\n",
        "#apt-get install java-common default-jre-headless ffmpeg # cuda\n",
        "from IPython.display import clear_output\n",
        "import os\n",
        "from random import randrange\n",
        "\n",
        "os.environ[\"LD_PRELOAD\"] = \"\"\n",
        "\n",
        "!apt update\n",
        "!apt remove libtcmalloc-minimal4\n",
        "!apt install libtcmalloc-minimal4\n",
        "os.environ[\"LD_PRELOAD\"] = \"/usr/lib/x86_64-linux-gnu/libtcmalloc_minimal.so.4.3.0\"\n",
        "\n",
        "!echo $LD_PRELOAD\n",
        "clear_output()\n",
        "!apt install libboost-all-dev\n",
        "!apt install libgl1-mesa-dev\n",
        "!apt install libglu1-mesa libsm-dev\n",
        "!pip install gdown\n",
        "clear_output()\n",
        "#downloadUrl = \"https://www.sheepit-renderfarm.com/media/applet/client-latest.php\"\n",
        "#!wget $downloadUrl -O sheepit.jar\n",
        "clear_output()"
      ]
    },
    {
      "cell_type": "code",
      "execution_count": 2,
      "metadata": {
        "id": "Y0dduW4EsNBo",
        "cellView": "form"
      },
      "outputs": [],
      "source": [
        "#@title Gdown\n",
        "gpu_no = '5' #@param ['1','2','3','4','5','6','7','8','9','10']\n",
        "downloadUrl = {'1' : \"https://drive.google.com/uc?id=1rrq9jltn3ZKShtMqBmiHavEHudxiF_cI\", \n",
        "               '2' : \"https://drive.google.com/uc?id=1PIvfn-K5z2-XKoTdtfxoQzQQnju9Nsi9\",\n",
        "               '3' : \"https://drive.google.com/uc?id=1Bnv6in7QnAPMB7KMO8JiDoW5f58YcF0f\",\n",
        "               '4' : \"https://drive.google.com/uc?id=1YvoaWph6YfnNCXizrWn7KGQoaZZuKer7\",\n",
        "               '5' : \"https://drive.google.com/uc?id=1FUysOORXEHbuS97jdbcR3WmD0JUhi9wT\",\n",
        "               '6' : \"https://drive.google.com/uc?id=1LkMzXVx3DR9yJ7SlP4uUvuC2vYxsVpYY\",\n",
        "               '7' : \"https://drive.google.com/uc?id=1DBcjxwH4Iv6lnFWNYSdf2ua3cd2Gr0R_\",\n",
        "               '8' : \"https://drive.google.com/uc?id=1Y1SpGfYQFHjcv2z8ZldMB_9FK-Kazuzu\",\n",
        "               '9' : \"https://drive.google.com/uc?id=1eT5sz1r5pscyT5PFtJCbRou9xVoKQtWT\",\n",
        "               '10': \"https://drive.google.com/uc?id=1iE9lj-_ghciYt8AenizSVWfvGwdDOe_X\"}\n",
        "hosts = [\"vishakavipla\", \"manoj\", \"srikanth\", \"john\", \"lisa\", \"panda\", \"vija\", \"colonel\", \"johncena\", \"fuckit\"]\n",
        "hostname = hosts[randrange(10)]\n",
        "\n",
        "url = downloadUrl[gpu_no]\n",
        "!gdown $url -O sheepit.jar\n",
        "clear_output()"
      ]
    },
    {
      "cell_type": "code",
      "execution_count": null,
      "metadata": {
        "cellView": "form",
        "id": "HvfliuWddB2H"
      },
      "outputs": [],
      "source": [
        "#@title Setup\n",
        "\n",
        "username = \"jonybabe1`\" #@param {type: \"string\"}\n",
        "key = \"iKfjZP74RAUjzKPhDZFLtUodWaI8nNJnyQDZfUEM\" #@param {type: \"string\"}\n",
        "computemethod = \"GPU\" #@param [\"GPU\", \"CPU\"] {allow-input: false}\n",
        "duration = 180 #@param {type:\"slider\", min:10, max:480, step:10}\n",
        "output = False #@param {type: \"boolean\"}\n",
        "front = \"\"\n",
        "end = \"\"\n",
        "if output == False:\n",
        "  front = \"nohup\"\n",
        "  end = \"</dev/null >/dev/null 2>&1\"\n",
        "if computemethod == \"CPU\": \n",
        "    !$front java -jar sheepit.jar -ui oneLine/text -cache-dir /content/cache  -compute-method $computemethod -login $username -password $key -ui text -shutdown +$duration $end -hostname $hostname\n",
        "else:\n",
        "    !$front java -jar sheepit.jar -ui oneLine/text -cache-dir /content/cache  -compute-method GPU -gpu CUDA_0 -login $username -password $key -ui text -shutdown +$duration $end -hostname $hostname\n"
      ]
    }
  ],
  "metadata": {
    "accelerator": "GPU",
    "colab": {
      "collapsed_sections": [],
      "provenance": []
    },
    "gpuClass": "standard",
    "kernelspec": {
      "display_name": "Python 3",
      "name": "python3"
    }
  },
  "nbformat": 4,
  "nbformat_minor": 0
}
