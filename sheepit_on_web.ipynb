{
  "cells": [
    {
      "cell_type": "markdown",
      "metadata": {
        "id": "JeNg1Yj8c-Xx"
      },
      "source": [
        "Get Dependencies"
      ]
    },
    {
      "cell_type": "code",
      "execution_count": null,
      "metadata": {
        "cellView": "form",
        "id": "q2aL4cibbWui"
      },
      "outputs": [],
      "source": [
        "#@title Install dependencies\n",
        "#apt-get install java-common default-jre-headless ffmpeg # cuda\n",
        "from IPython.display import clear_output\n",
        "import os\n",
        "\n",
        "os.environ[\"LD_PRELOAD\"] = \"\"\n",
        "\n",
        "!apt update\n",
        "!apt remove libtcmalloc-minimal4\n",
        "!apt install libtcmalloc-minimal4\n",
        "os.environ[\"LD_PRELOAD\"] = \"/usr/lib/x86_64-linux-gnu/libtcmalloc_minimal.so.4.3.0\"\n",
        "\n",
        "!echo $LD_PRELOAD\n",
        "clear_output()\n",
        "!apt install libboost-all-dev\n",
        "!apt install libgl1-mesa-dev\n",
        "!apt install libglu1-mesa libsm-dev\n",
        "clear_output()\n",
        "downloadUrl = \"https://www.sheepit-renderfarm.com/media/applet/client-latest.php\"\n",
        "!wget $downloadUrl -O sheepit.jar\n",
        "clear_output()"
      ]
    },
    {
      "cell_type": "markdown",
      "metadata": {
        "id": "oC3OE5XqyJPr"
      },
      "source": [
        "Enter you username and public key (can be found under profile>keys), compute method and duration"
      ]
    },
    {
      "cell_type": "code",
      "execution_count": null,
      "metadata": {
        "id": "HvfliuWddB2H",
        "cellView": "form"
      },
      "outputs": [],
      "source": [
        "#@title Setup\n",
        "\n",
        "username = \"jonybabe1\" #@param {type: \"string\"}\n",
        "key = \"iKfjZP74RAUjzKPhDZFLtUodWaI8nNJnyQDZfUEM\" #@param {type: \"string\"}\n",
        "computemethod = \"GPU\" #@param [\"GPU\", \"CPU\"] {allow-input: false}\n",
        "duration = 240 #@param {type:\"slider\", min:10, max:480, step:10}\n",
        "output = False #@param {type: \"boolean\"}\n",
        "front = \"\"\n",
        "end = \"\"\n",
        "if output == False:\n",
        "  front = \"nohup\"\n",
        "  end = \"</dev/null >/dev/null 2>&1\"\n",
        "if computemethod == \"CPU\": \n",
        "    !$front java -jar sheepit.jar -ui oneLine/text -cache-dir /content/cache  -compute-method $computemethod -login $username -password $key -ui text -shutdown +$duration $end\n",
        "else:\n",
        "    !$front java -jar sheepit.jar -ui oneLine/text -cache-dir /content/cache  -compute-method GPU -gpu CUDA_0 -login $username -password $key -ui text -shutdown +$duration $end\n",
        "\n",
        "clear_output()"
      ]
    }
  ],
  "metadata": {
    "colab": {
      "collapsed_sections": [],
      "name": "sheepit_on_web.ipynb",
      "provenance": []
    },
    "kernelspec": {
      "display_name": "Python 3",
      "name": "python3"
    },
    "gpuClass": "standard",
    "accelerator": "GPU"
  },
  "nbformat": 4,
  "nbformat_minor": 0
}
