{
  "cells": [
    {
      "cell_type": "markdown",
      "metadata": {
        "id": "JeNg1Yj8c-Xx"
      },
      "source": [
        "Get Dependencies"
      ]
    },
    {
      "cell_type": "code",
      "execution_count": null,
      "metadata": {
        "cellView": "form",
        "id": "q2aL4cibbWui"
      },
      "outputs": [],
      "source": [
        "#@title Install dependencies\n",
        "!apt-get install java-common default-jre-headless ffmpeg cuda\n",
        "import os\n",
        "\n",
        "os.environ[\"LD_PRELOAD\"] = \"\"\n",
        "\n",
        "!apt update\n",
        "!apt remove libtcmalloc-minimal4\n",
        "!apt install libtcmalloc-minimal4\n",
        "os.environ[\"LD_PRELOAD\"] = \"/usr/lib/x86_64-linux-gnu/libtcmalloc_minimal.so.4.3.0\"\n",
        "\n",
        "!echo $LD_PRELOAD\n",
        "\n",
        "!apt install libboost-all-dev\n",
        "!apt install libgl1-mesa-dev\n",
        "!apt install libglu1-mesa libsm-dev"
      ]
    },
    {
      "cell_type": "markdown",
      "metadata": {
        "id": "oC3OE5XqyJPr"
      },
      "source": [
        "Enter you username and public key (can be found under profile>keys)\n",
        "You have to run this block also"
      ]
    },
    {
      "cell_type": "code",
      "execution_count": null,
      "metadata": {
        "id": "HvfliuWddB2H"
      },
      "outputs": [],
      "source": [
        "#@title Setup\n",
        "#@markdown Enter some dogshit \n",
        "username = \"jonybabe1\" #@param {type: \"string\"}\n",
        "key = \"iKfjZP74RAUjzKPhDZFLtUodWaI8nNJnyQDZfUEM\" #@param {type: \"string\"}\n",
        "computemethod = \"GPU\" #@param [\"GPU\", \"CPU\"] {allow-input: false}\n",
        "downloadUrl = \"https://www.sheepit-renderfarm.com/media/applet/sheepit-client-6.22164.0.jar\"\n",
        "#@markdown ---\n",
        "!wget $downloadUrl\n",
        "\n",
        "sheepitversion = downloadUrl.replace(\"https://www.sheepit-renderfarm.com/media/applet/\", \"\")"
      ]
    },
    {
      "cell_type": "markdown",
      "metadata": {
        "id": "3rYxBLeaeSA2"
      },
      "source": [
        "# **Run this to start**"
      ]
    },
    {
      "cell_type": "code",
      "execution_count": null,
      "metadata": {
        "cellView": "form",
        "id": "KbE3Ex53eX0J"
      },
      "outputs": [],
      "source": [
        "#@title open/close CODE\n",
        "if computemethod == \"CPU\": \n",
        "    !java -jar $sheepitversion -ui oneLine/text -cache-dir /content/cache --headless -compute-method $computemethod -login $username -password $key -ui text\n",
        "else:\n",
        "    !java -jar $sheepitversion -ui oneLine/text -cache-dir /content/cache --headless -compute-method GPU -gpu CUDA_0 -login $username -password $key -ui text -shutdown +180"
      ]
    }
  ],
  "metadata": {
    "accelerator": "GPU",
    "colab": {
      "collapsed_sections": [],
      "name": "sheepit_on_web.ipynb",
      "provenance": []
    },
    "kernelspec": {
      "display_name": "Python 3",
      "name": "python3"
    }
  },
  "nbformat": 4,
  "nbformat_minor": 0
}
